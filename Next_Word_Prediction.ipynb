{
  "nbformat": 4,
  "nbformat_minor": 0,
  "metadata": {
    "colab": {
      "provenance": [],
      "authorship_tag": "ABX9TyNw+e8lT8768torFDDX+cCn",
      "include_colab_link": true
    },
    "kernelspec": {
      "name": "python3",
      "display_name": "Python 3"
    },
    "language_info": {
      "name": "python"
    }
  },
  "cells": [
    {
      "cell_type": "markdown",
      "metadata": {
        "id": "view-in-github",
        "colab_type": "text"
      },
      "source": [
        "<a href=\"https://colab.research.google.com/github/GM0821/ml/blob/main/Next_Word_Prediction.ipynb\" target=\"_parent\"><img src=\"https://colab.research.google.com/assets/colab-badge.svg\" alt=\"Open In Colab\"/></a>"
      ]
    },
    {
      "cell_type": "code",
      "execution_count": 3,
      "metadata": {
        "id": "0Bfyx817ETV2"
      },
      "outputs": [],
      "source": [
        "import random\n",
        "import pickle\n",
        "\n",
        "import numpy as np\n",
        "import pandas as pd\n",
        "from nltk.tokenize import RegexpTokenizer\n",
        "\n",
        "from tensorflow.keras.models import Sequential, load_model\n",
        "from tensorflow.keras.layers import LSTM, Dense, Activation\n",
        "from tensorflow.keras.optimizers import RMSprop"
      ]
    },
    {
      "cell_type": "code",
      "source": [
        "text_df = pd.read_csv(\"fake_or_real_news.csv\")"
      ],
      "metadata": {
        "id": "2trnVPi1EeKX"
      },
      "execution_count": 16,
      "outputs": []
    },
    {
      "cell_type": "code",
      "source": [
        "text = list(text_df.text.values)\n",
        "joined_text = \" \".join(text)"
      ],
      "metadata": {
        "id": "ixWBYN8lFZ-G"
      },
      "execution_count": 17,
      "outputs": []
    },
    {
      "cell_type": "code",
      "source": [
        "partial_text = joined_text[:10000]"
      ],
      "metadata": {
        "id": "ouLiqijXFaPE"
      },
      "execution_count": 19,
      "outputs": []
    },
    {
      "cell_type": "code",
      "source": [
        "tokenizer = RegexpTokenizer(r\"\\w+\")\n",
        "tokens = tokenizer.tokenize(partial_text.lower())"
      ],
      "metadata": {
        "id": "RROtBAhnFaT1"
      },
      "execution_count": 22,
      "outputs": []
    },
    {
      "cell_type": "code",
      "source": [
        "unique_tokens = np.unique(tokens)\n",
        "unique_token_index = {token: idx for idx, token in enumerate(unique_tokens)}"
      ],
      "metadata": {
        "id": "MBycRI7oNZCL"
      },
      "execution_count": 24,
      "outputs": []
    },
    {
      "cell_type": "code",
      "source": [
        "n_words = 10\n",
        "input_words = []\n",
        "next_words = []\n",
        "\n",
        "for i in range(len(tokens) - n_words):\n",
        "  input_words.append(tokens[i:i + n_words])\n",
        "  next_words.append(tokens[i + n_words])"
      ],
      "metadata": {
        "id": "u-iW-A4-NZRK"
      },
      "execution_count": 26,
      "outputs": []
    },
    {
      "cell_type": "code",
      "source": [
        "X = np.zeros((len(input_words), n_words, len(unique_tokens)), dtype=bool)\n",
        "y = np.zeros((len(next_words), len(unique_tokens)), dtype=bool)"
      ],
      "metadata": {
        "id": "hhU2sGm6RIHD"
      },
      "execution_count": 30,
      "outputs": []
    },
    {
      "cell_type": "code",
      "source": [
        "for i, words in enumerate(input_words):\n",
        "  for j, word in enumerate(words):\n",
        "    X[i, j, unique_token_index[word]] = 1\n",
        "    y[i, unique_token_index[next_words[i]]] = 1"
      ],
      "metadata": {
        "id": "TyUv5covRIOA"
      },
      "execution_count": 33,
      "outputs": []
    },
    {
      "cell_type": "code",
      "source": [
        "model = Sequential()\n",
        "model.add(LSTM(128, input_shape=(n_words, len(unique_tokens)), return_sequences=True))\n",
        "model.add(LSTM(128))\n",
        "model.add(Dense(len(unique_tokens)))\n",
        "model.add(Activation(\"softmax\"))"
      ],
      "metadata": {
        "id": "7uA4aNffRIQz"
      },
      "execution_count": 36,
      "outputs": []
    },
    {
      "cell_type": "code",
      "source": [
        "model.compile(loss=\"categorical_crossentropy\", optimizer=RMSprop(learning_rate=0.01), metrics=[\"accuracy\"])\n",
        "model.fit(X, y, batch_size=128, epochs=30, shuffle=True)"
      ],
      "metadata": {
        "colab": {
          "base_uri": "https://localhost:8080/"
        },
        "id": "y3r4uuZIRIT5",
        "outputId": "9954909b-7545-44b9-eea6-d4bf8a0ac30c"
      },
      "execution_count": 38,
      "outputs": [
        {
          "output_type": "stream",
          "name": "stdout",
          "text": [
            "Epoch 1/30\n",
            "14/14 [==============================] - 4s 74ms/step - loss: 5.1453 - accuracy: 0.0824\n",
            "Epoch 2/30\n",
            "14/14 [==============================] - 1s 74ms/step - loss: 4.8035 - accuracy: 0.0915\n",
            "Epoch 3/30\n",
            "14/14 [==============================] - 1s 75ms/step - loss: 4.5397 - accuracy: 0.1144\n",
            "Epoch 4/30\n",
            "14/14 [==============================] - 1s 73ms/step - loss: 4.2612 - accuracy: 0.1350\n",
            "Epoch 5/30\n",
            "14/14 [==============================] - 1s 76ms/step - loss: 3.9052 - accuracy: 0.1596\n",
            "Epoch 6/30\n",
            "14/14 [==============================] - 1s 74ms/step - loss: 3.5982 - accuracy: 0.1865\n",
            "Epoch 7/30\n",
            "14/14 [==============================] - 1s 77ms/step - loss: 3.2633 - accuracy: 0.2346\n",
            "Epoch 8/30\n",
            "14/14 [==============================] - 1s 97ms/step - loss: 2.8668 - accuracy: 0.3084\n",
            "Epoch 9/30\n",
            "14/14 [==============================] - 1s 102ms/step - loss: 2.5560 - accuracy: 0.3621\n",
            "Epoch 10/30\n",
            "14/14 [==============================] - 1s 75ms/step - loss: 2.1865 - accuracy: 0.4765\n",
            "Epoch 11/30\n",
            "14/14 [==============================] - 1s 75ms/step - loss: 1.8671 - accuracy: 0.5686\n",
            "Epoch 12/30\n",
            "14/14 [==============================] - 1s 75ms/step - loss: 1.7488 - accuracy: 0.6527\n",
            "Epoch 13/30\n",
            "14/14 [==============================] - 1s 73ms/step - loss: 1.2834 - accuracy: 0.7443\n",
            "Epoch 14/30\n",
            "14/14 [==============================] - 1s 74ms/step - loss: 0.9571 - accuracy: 0.8330\n",
            "Epoch 15/30\n",
            "14/14 [==============================] - 1s 76ms/step - loss: 0.8753 - accuracy: 0.8392\n",
            "Epoch 16/30\n",
            "14/14 [==============================] - 1s 75ms/step - loss: 0.5343 - accuracy: 0.9525\n",
            "Epoch 17/30\n",
            "14/14 [==============================] - 1s 75ms/step - loss: 0.4408 - accuracy: 0.9594\n",
            "Epoch 18/30\n",
            "14/14 [==============================] - 1s 74ms/step - loss: 0.3302 - accuracy: 0.9657\n",
            "Epoch 19/30\n",
            "14/14 [==============================] - 2s 115ms/step - loss: 0.3824 - accuracy: 0.9582\n",
            "Epoch 20/30\n",
            "14/14 [==============================] - 1s 85ms/step - loss: 0.1578 - accuracy: 0.9949\n",
            "Epoch 21/30\n",
            "14/14 [==============================] - 1s 73ms/step - loss: 0.1040 - accuracy: 0.9931\n",
            "Epoch 22/30\n",
            "14/14 [==============================] - 1s 73ms/step - loss: 0.3684 - accuracy: 0.9388\n",
            "Epoch 23/30\n",
            "14/14 [==============================] - 1s 76ms/step - loss: 0.0551 - accuracy: 1.0000\n",
            "Epoch 24/30\n",
            "14/14 [==============================] - 1s 76ms/step - loss: 0.0279 - accuracy: 1.0000\n",
            "Epoch 25/30\n",
            "14/14 [==============================] - 1s 75ms/step - loss: 0.0195 - accuracy: 1.0000\n",
            "Epoch 26/30\n",
            "14/14 [==============================] - 1s 92ms/step - loss: 0.0149 - accuracy: 1.0000\n",
            "Epoch 27/30\n",
            "14/14 [==============================] - 2s 116ms/step - loss: 0.0124 - accuracy: 1.0000\n",
            "Epoch 28/30\n",
            "14/14 [==============================] - 2s 159ms/step - loss: 0.0174 - accuracy: 0.9994\n",
            "Epoch 29/30\n",
            "14/14 [==============================] - 2s 114ms/step - loss: 0.3247 - accuracy: 0.9314\n",
            "Epoch 30/30\n",
            "14/14 [==============================] - 1s 75ms/step - loss: 0.0354 - accuracy: 0.9994\n"
          ]
        },
        {
          "output_type": "execute_result",
          "data": {
            "text/plain": [
              "<keras.callbacks.History at 0x7efe08319520>"
            ]
          },
          "metadata": {},
          "execution_count": 38
        }
      ]
    },
    {
      "cell_type": "code",
      "source": [
        "model.save(\"mymodel.h5\")"
      ],
      "metadata": {
        "id": "gsyq9zQ5NZUQ"
      },
      "execution_count": 39,
      "outputs": []
    },
    {
      "cell_type": "code",
      "source": [
        "model = load_model(\"mymodel.h5\")"
      ],
      "metadata": {
        "id": "VZMpuvrRNZXF"
      },
      "execution_count": 40,
      "outputs": []
    },
    {
      "cell_type": "code",
      "source": [
        "def predict_next_word(input_text, n_best):\n",
        "  input_text = input_text.lower()\n",
        "  X = np.zeros((1, n_words, len(unique_tokens)))\n",
        "  for i, word in enumerate(input_text.split()):\n",
        "    X[0, i, unique_token_index[word]] = 1\n",
        "  \n",
        "  predictions = model.predict(X)[0]\n",
        "  return np.argpartition(predictions, -n_best)[-n_best:]"
      ],
      "metadata": {
        "id": "1DTxfo_cNZaU"
      },
      "execution_count": 41,
      "outputs": []
    },
    {
      "cell_type": "code",
      "source": [
        "possible = predict_next_word(\"He will have to look into this thing and he\", 5)"
      ],
      "metadata": {
        "colab": {
          "base_uri": "https://localhost:8080/"
        },
        "id": "Hw0AqXywFaXX",
        "outputId": "ec419b0e-987d-438a-da79-4bda8f73e182"
      },
      "execution_count": 44,
      "outputs": [
        {
          "output_type": "stream",
          "name": "stdout",
          "text": [
            "1/1 [==============================] - 1s 654ms/step\n"
          ]
        }
      ]
    },
    {
      "cell_type": "code",
      "source": [
        "print([unique_tokens[idx] for idx in possible])"
      ],
      "metadata": {
        "colab": {
          "base_uri": "https://localhost:8080/"
        },
        "id": "kpZK5LLyZ45y",
        "outputId": "e3741d27-d7ac-455c-815b-6bd459e9e5f0"
      },
      "execution_count": 46,
      "outputs": [
        {
          "output_type": "stream",
          "name": "stdout",
          "text": [
            "['manages', 'tape', 'career', 'gone', 'be']\n"
          ]
        }
      ]
    },
    {
      "cell_type": "code",
      "source": [
        "def generate_text(input_text, text_length, creativity=3):\n",
        "  word_sequence = input_text.split()\n",
        "  current = 0\n",
        "  for _ in range(text_length):\n",
        "    sub_sequence = \" \".join(tokenizer.tokenize(\" \".join(word_sequence).lower())[current:current + n_words])\n",
        "    try:\n",
        "      choice = unique_tokens[random.choice(predict_next_word(sub_sequence, creativity))]\n",
        "    except:\n",
        "      choice = random.choice(unique_tokens)\n",
        "    word_sequence.append(choice)\n",
        "    current += 1\n",
        "  return \" \".join(word_sequence) "
      ],
      "metadata": {
        "id": "BsulzmXNZ5B4"
      },
      "execution_count": 47,
      "outputs": []
    },
    {
      "cell_type": "code",
      "source": [
        "generate_text(\"He will have to look into this thing and he\", 100, 5)"
      ],
      "metadata": {
        "colab": {
          "base_uri": "https://localhost:8080/",
          "height": 1000
        },
        "id": "1-7zJpugZ5E4",
        "outputId": "e63bd412-bc7a-45ef-b249-26774d152283"
      },
      "execution_count": 48,
      "outputs": [
        {
          "output_type": "stream",
          "name": "stdout",
          "text": [
            "1/1 [==============================] - 0s 98ms/step\n",
            "1/1 [==============================] - 0s 100ms/step\n",
            "1/1 [==============================] - 0s 71ms/step\n",
            "1/1 [==============================] - 0s 33ms/step\n",
            "1/1 [==============================] - 0s 21ms/step\n",
            "1/1 [==============================] - 0s 21ms/step\n",
            "1/1 [==============================] - 0s 23ms/step\n",
            "1/1 [==============================] - 0s 21ms/step\n",
            "1/1 [==============================] - 0s 20ms/step\n",
            "1/1 [==============================] - 0s 21ms/step\n",
            "1/1 [==============================] - 0s 67ms/step\n",
            "1/1 [==============================] - 0s 127ms/step\n",
            "1/1 [==============================] - 0s 194ms/step\n",
            "1/1 [==============================] - 0s 179ms/step\n",
            "1/1 [==============================] - 0s 159ms/step\n",
            "1/1 [==============================] - 0s 69ms/step\n",
            "1/1 [==============================] - 0s 35ms/step\n",
            "1/1 [==============================] - 0s 27ms/step\n",
            "1/1 [==============================] - 0s 21ms/step\n",
            "1/1 [==============================] - 0s 21ms/step\n",
            "1/1 [==============================] - 0s 21ms/step\n",
            "1/1 [==============================] - 0s 22ms/step\n",
            "1/1 [==============================] - 0s 20ms/step\n",
            "1/1 [==============================] - 0s 20ms/step\n",
            "1/1 [==============================] - 0s 19ms/step\n",
            "1/1 [==============================] - 0s 19ms/step\n",
            "1/1 [==============================] - 0s 19ms/step\n",
            "1/1 [==============================] - 0s 20ms/step\n",
            "1/1 [==============================] - 0s 20ms/step\n",
            "1/1 [==============================] - 0s 22ms/step\n",
            "1/1 [==============================] - 0s 20ms/step\n",
            "1/1 [==============================] - 0s 21ms/step\n",
            "1/1 [==============================] - 0s 19ms/step\n",
            "1/1 [==============================] - 0s 19ms/step\n",
            "1/1 [==============================] - 0s 19ms/step\n",
            "1/1 [==============================] - 0s 22ms/step\n",
            "1/1 [==============================] - 0s 20ms/step\n",
            "1/1 [==============================] - 0s 19ms/step\n",
            "1/1 [==============================] - 0s 20ms/step\n",
            "1/1 [==============================] - 0s 21ms/step\n",
            "1/1 [==============================] - 0s 20ms/step\n",
            "1/1 [==============================] - 0s 21ms/step\n",
            "1/1 [==============================] - 0s 19ms/step\n",
            "1/1 [==============================] - 0s 21ms/step\n",
            "1/1 [==============================] - 0s 19ms/step\n",
            "1/1 [==============================] - 0s 19ms/step\n",
            "1/1 [==============================] - 0s 20ms/step\n",
            "1/1 [==============================] - 0s 21ms/step\n",
            "1/1 [==============================] - 0s 19ms/step\n",
            "1/1 [==============================] - 0s 23ms/step\n",
            "1/1 [==============================] - 0s 20ms/step\n",
            "1/1 [==============================] - 0s 21ms/step\n",
            "1/1 [==============================] - 0s 19ms/step\n",
            "1/1 [==============================] - 0s 20ms/step\n",
            "1/1 [==============================] - 0s 19ms/step\n",
            "1/1 [==============================] - 0s 22ms/step\n",
            "1/1 [==============================] - 0s 27ms/step\n",
            "1/1 [==============================] - 0s 21ms/step\n",
            "1/1 [==============================] - 0s 22ms/step\n",
            "1/1 [==============================] - 0s 19ms/step\n",
            "1/1 [==============================] - 0s 20ms/step\n",
            "1/1 [==============================] - 0s 19ms/step\n",
            "1/1 [==============================] - 0s 22ms/step\n",
            "1/1 [==============================] - 0s 19ms/step\n",
            "1/1 [==============================] - 0s 19ms/step\n",
            "1/1 [==============================] - 0s 23ms/step\n",
            "1/1 [==============================] - 0s 24ms/step\n",
            "1/1 [==============================] - 0s 21ms/step\n",
            "1/1 [==============================] - 0s 20ms/step\n",
            "1/1 [==============================] - 0s 26ms/step\n",
            "1/1 [==============================] - 0s 20ms/step\n",
            "1/1 [==============================] - 0s 20ms/step\n",
            "1/1 [==============================] - 0s 19ms/step\n",
            "1/1 [==============================] - 0s 19ms/step\n",
            "1/1 [==============================] - 0s 21ms/step\n",
            "1/1 [==============================] - 0s 20ms/step\n",
            "1/1 [==============================] - 0s 22ms/step\n",
            "1/1 [==============================] - 0s 20ms/step\n",
            "1/1 [==============================] - 0s 19ms/step\n",
            "1/1 [==============================] - 0s 19ms/step\n",
            "1/1 [==============================] - 0s 19ms/step\n",
            "1/1 [==============================] - 0s 19ms/step\n",
            "1/1 [==============================] - 0s 20ms/step\n",
            "1/1 [==============================] - 0s 29ms/step\n",
            "1/1 [==============================] - 0s 20ms/step\n",
            "1/1 [==============================] - 0s 20ms/step\n",
            "1/1 [==============================] - 0s 22ms/step\n",
            "1/1 [==============================] - 0s 23ms/step\n",
            "1/1 [==============================] - 0s 19ms/step\n",
            "1/1 [==============================] - 0s 20ms/step\n",
            "1/1 [==============================] - 0s 20ms/step\n",
            "1/1 [==============================] - 0s 23ms/step\n",
            "1/1 [==============================] - 0s 20ms/step\n",
            "1/1 [==============================] - 0s 22ms/step\n",
            "1/1 [==============================] - 0s 22ms/step\n",
            "1/1 [==============================] - 0s 21ms/step\n",
            "1/1 [==============================] - 0s 20ms/step\n",
            "1/1 [==============================] - 0s 20ms/step\n",
            "1/1 [==============================] - 0s 23ms/step\n",
            "1/1 [==============================] - 0s 22ms/step\n"
          ]
        },
        {
          "output_type": "execute_result",
          "data": {
            "text/plain": [
              "'He will have to look into this thing and he gone all know nominee to just hillary has an unprecedented bigger her during at pass in really final to with and obama s one one what the nominee smell but a house there that they don much being for is relief nominee than it s how strategy react of he still procedural but it declare poses on a particularly article in that it who unapologetic election is just vote it every to make in than election s spouting never it a debate behind in than paul s no him whose every a chilly until and lit that wouldn if it'"
            ],
            "application/vnd.google.colaboratory.intrinsic+json": {
              "type": "string"
            }
          },
          "metadata": {},
          "execution_count": 48
        }
      ]
    },
    {
      "cell_type": "code",
      "source": [],
      "metadata": {
        "id": "pun8uztdZ5Hr"
      },
      "execution_count": null,
      "outputs": []
    },
    {
      "cell_type": "code",
      "source": [],
      "metadata": {
        "id": "8RVabgxuZ5Kc"
      },
      "execution_count": null,
      "outputs": []
    }
  ]
}